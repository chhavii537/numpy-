{
 "cells": [
  {
   "cell_type": "code",
   "execution_count": 1,
   "id": "a8f1e363",
   "metadata": {},
   "outputs": [
    {
     "name": "stdout",
     "output_type": "stream",
     "text": [
      "608 ns ± 4.47 ns per loop (mean ± std. dev. of 7 runs, 1,000,000 loops each)\n"
     ]
    }
   ],
   "source": [
    "%timeit [j**4 for j in range(1,9)]"
   ]
  },
  {
   "cell_type": "markdown",
   "id": "98a51f56",
   "metadata": {},
   "source": [
    "# array\n"
   ]
  },
  {
   "cell_type": "code",
   "execution_count": 5,
   "id": "11bb15fc",
   "metadata": {},
   "outputs": [
    {
     "name": "stdout",
     "output_type": "stream",
     "text": [
      "[1 2 3 4]\n",
      "1\n"
     ]
    }
   ],
   "source": [
    "import numpy as np\n",
    "\n",
    "x = [1,2,3,4]\n",
    "y = np.array(x)\n",
    "print(y)\n",
    "print(y.ndim)"
   ]
  },
  {
   "cell_type": "code",
   "execution_count": 4,
   "id": "c22b2adf",
   "metadata": {},
   "outputs": [
    {
     "name": "stdout",
     "output_type": "stream",
     "text": [
      "enter:12\n",
      "enter:12\n",
      "enter:13\n",
      "enter:14\n",
      "[12 12 13 14]\n"
     ]
    }
   ],
   "source": [
    "l = []\n",
    "for i in range(1,5):\n",
    "    int_1 = int(input(\"enter:\"))\n",
    "    l.append(int_1)\n",
    "print(np.array(l))"
   ]
  },
  {
   "cell_type": "code",
   "execution_count": null,
   "id": "6952c9e3",
   "metadata": {},
   "outputs": [
    {
     "name": "stdout",
     "output_type": "stream",
     "text": [
      "[[1 2 3 4]\n",
      " [2 3 5 6]]\n",
      "2\n"
     ]
    }
   ],
   "source": [
    "ar2 = np.array([[1,2,3,4],[2,3,5,6]])\n",
    "print(ar2)\n",
    "print(ar2.ndim)"
   ]
  },
  {
   "cell_type": "code",
   "execution_count": 9,
   "id": "fc3b5f9c",
   "metadata": {},
   "outputs": [
    {
     "name": "stdout",
     "output_type": "stream",
     "text": [
      "[[[1 2 3 4]\n",
      "  [2 3 4 5]\n",
      "  [2 3 4 5]]]\n",
      "3\n"
     ]
    }
   ],
   "source": [
    "ar3 = np.array([[[1,2,3,4],[2,3,4,5],[2,3,4,5]]])\n",
    "print(ar3)\n",
    "print(ar3.ndim)"
   ]
  },
  {
   "cell_type": "code",
   "execution_count": 12,
   "id": "1fbbb9e5",
   "metadata": {},
   "outputs": [
    {
     "name": "stdout",
     "output_type": "stream",
     "text": [
      "[[[[[[[[[[1 2 3 4]]]]]]]]]]\n",
      "10\n"
     ]
    }
   ],
   "source": [
    "ar4 = np.array([1,2,3,4],ndmin=10)\n",
    "print(ar4)\n",
    "print(ar4.ndim)"
   ]
  },
  {
   "cell_type": "markdown",
   "id": "50a89431",
   "metadata": {},
   "source": [
    "# zeros"
   ]
  },
  {
   "cell_type": "code",
   "execution_count": 16,
   "id": "4d0708b4",
   "metadata": {},
   "outputs": [
    {
     "name": "stdout",
     "output_type": "stream",
     "text": [
      "[0. 0. 0. 0.]\n",
      "\n",
      "[[0. 0. 0. 0.]\n",
      " [0. 0. 0. 0.]\n",
      " [0. 0. 0. 0.]]\n"
     ]
    }
   ],
   "source": [
    "ar_zeros = np.zeros(4)\n",
    "print(ar_zeros)\n",
    "ar_zeros1 = np.zeros((3,4))\n",
    "print()\n",
    "print(ar_zeros1)"
   ]
  },
  {
   "cell_type": "markdown",
   "id": "833332ce",
   "metadata": {},
   "source": [
    "# ones"
   ]
  },
  {
   "cell_type": "markdown",
   "id": "bbd2861b",
   "metadata": {},
   "source": [
    "ar_one = np.ones(4)\n",
    "print(ar_one)"
   ]
  },
  {
   "cell_type": "markdown",
   "id": "c31af35b",
   "metadata": {},
   "source": [
    "# empty"
   ]
  },
  {
   "cell_type": "code",
   "execution_count": 18,
   "id": "e7d78bd8",
   "metadata": {},
   "outputs": [
    {
     "name": "stdout",
     "output_type": "stream",
     "text": [
      "[1. 1. 1. 1.]\n"
     ]
    }
   ],
   "source": [
    "ar_em = np.empty(4)\n",
    "print(ar_em)"
   ]
  },
  {
   "cell_type": "markdown",
   "id": "9dc72a57",
   "metadata": {},
   "source": [
    "# range"
   ]
  },
  {
   "cell_type": "code",
   "execution_count": 20,
   "id": "7ac7ad4e",
   "metadata": {},
   "outputs": [
    {
     "name": "stdout",
     "output_type": "stream",
     "text": [
      "[0 1 2 3 4]\n"
     ]
    }
   ],
   "source": [
    "ar_rn = np.arange(5)\n",
    "print(ar_rn)"
   ]
  },
  {
   "cell_type": "markdown",
   "id": "6689c0fe",
   "metadata": {},
   "source": [
    "# diagonal"
   ]
  },
  {
   "cell_type": "code",
   "execution_count": 21,
   "id": "99ddd46a",
   "metadata": {},
   "outputs": [
    {
     "name": "stdout",
     "output_type": "stream",
     "text": [
      "[[1. 0. 0.]\n",
      " [0. 1. 0.]\n",
      " [0. 0. 1.]]\n"
     ]
    }
   ],
   "source": [
    "ar_dia = np.eye(3)\n",
    "print(ar_dia)"
   ]
  },
  {
   "cell_type": "code",
   "execution_count": 22,
   "id": "fc377876",
   "metadata": {},
   "outputs": [
    {
     "name": "stdout",
     "output_type": "stream",
     "text": [
      "[[1. 0. 0. 0. 0.]\n",
      " [0. 1. 0. 0. 0.]\n",
      " [0. 0. 1. 0. 0.]]\n"
     ]
    }
   ],
   "source": [
    "ar_dia1 = np.eye(3,5)\n",
    "print(ar_dia1)"
   ]
  },
  {
   "cell_type": "markdown",
   "id": "4fb059e0",
   "metadata": {},
   "source": [
    "# linspace"
   ]
  },
  {
   "cell_type": "code",
   "execution_count": 27,
   "id": "a1e428fc",
   "metadata": {},
   "outputs": [
    {
     "name": "stdout",
     "output_type": "stream",
     "text": [
      "[ 1.    3.25  5.5   7.75 10.  ]\n"
     ]
    }
   ],
   "source": [
    "ar_lin = np.linspace(1,10,num = 5)\n",
    "print(ar_lin)"
   ]
  },
  {
   "cell_type": "markdown",
   "id": "3eb741f7",
   "metadata": {},
   "source": [
    "# random"
   ]
  },
  {
   "cell_type": "markdown",
   "id": "22235f57",
   "metadata": {},
   "source": [
    "# rand()"
   ]
  },
  {
   "cell_type": "code",
   "execution_count": 2,
   "id": "dcf4680d",
   "metadata": {},
   "outputs": [
    {
     "name": "stdout",
     "output_type": "stream",
     "text": [
      "[0.07648588 0.3694577  0.57364416 0.59804057]\n"
     ]
    }
   ],
   "source": [
    "import numpy as np\n",
    "var1 = np.random.rand(4)\n",
    "print(var1)"
   ]
  },
  {
   "cell_type": "markdown",
   "id": "b13b821b",
   "metadata": {},
   "source": [
    "# randn()"
   ]
  },
  {
   "cell_type": "code",
   "execution_count": 3,
   "id": "dc60972c",
   "metadata": {},
   "outputs": [
    {
     "name": "stdout",
     "output_type": "stream",
     "text": [
      "[-1.87375747  0.66485923  0.10543501  0.07003543 -1.27924027]\n"
     ]
    }
   ],
   "source": [
    "var2 = np.random.randn(5)\n",
    "print(var2)"
   ]
  },
  {
   "cell_type": "markdown",
   "id": "7f0ff96b",
   "metadata": {},
   "source": [
    "# ranf()"
   ]
  },
  {
   "cell_type": "code",
   "execution_count": 4,
   "id": "e2789ae5",
   "metadata": {},
   "outputs": [
    {
     "name": "stdout",
     "output_type": "stream",
     "text": [
      "[0.99184588 0.83037494 0.4596954  0.28408708]\n"
     ]
    }
   ],
   "source": [
    "var3 = np.random.ranf(4)\n",
    "print(var3)"
   ]
  },
  {
   "cell_type": "markdown",
   "id": "07976766",
   "metadata": {},
   "source": [
    "# randint()"
   ]
  },
  {
   "cell_type": "code",
   "execution_count": 5,
   "id": "2188cb87",
   "metadata": {},
   "outputs": [
    {
     "name": "stdout",
     "output_type": "stream",
     "text": [
      "[3 3 2 2 2]\n"
     ]
    }
   ],
   "source": [
    "var4 = np.random.randint(2,4,5)\n",
    "print(var4)"
   ]
  },
  {
   "cell_type": "markdown",
   "id": "f9425fd8",
   "metadata": {},
   "source": [
    "# datatype"
   ]
  },
  {
   "cell_type": "code",
   "execution_count": 6,
   "id": "c07881cf",
   "metadata": {},
   "outputs": [
    {
     "name": "stdout",
     "output_type": "stream",
     "text": [
      "Data type: int32\n"
     ]
    }
   ],
   "source": [
    "import numpy as np\n",
    "\n",
    "var = np.array([1,2,3,4])\n",
    "print(\"Data type:\" , var.dtype)"
   ]
  },
  {
   "cell_type": "code",
   "execution_count": 7,
   "id": "04f308cc",
   "metadata": {},
   "outputs": [
    {
     "name": "stdout",
     "output_type": "stream",
     "text": [
      "Data type: float64\n"
     ]
    }
   ],
   "source": [
    "var = np.array([1.0,2.4,3.0])\n",
    "print(\"Data type:\" , var.dtype)"
   ]
  },
  {
   "cell_type": "code",
   "execution_count": 8,
   "id": "d2643fbe",
   "metadata": {},
   "outputs": [
    {
     "name": "stdout",
     "output_type": "stream",
     "text": [
      "Data type: <U1\n"
     ]
    }
   ],
   "source": [
    "var = np.array([\"A\",\"x\",\"c\",\"f\"])\n",
    "print(\"Data type:\" , var.dtype)"
   ]
  },
  {
   "cell_type": "code",
   "execution_count": 9,
   "id": "ee53cdcc",
   "metadata": {},
   "outputs": [
    {
     "name": "stdout",
     "output_type": "stream",
     "text": [
      "Data type: <U11\n"
     ]
    }
   ],
   "source": [
    "var = np.array([\"A\",\"x\",\"c\",\"f\",1,2,3,4])\n",
    "print(\"Data type:\" , var.dtype)"
   ]
  },
  {
   "cell_type": "code",
   "execution_count": 12,
   "id": "82323147",
   "metadata": {},
   "outputs": [
    {
     "name": "stdout",
     "output_type": "stream",
     "text": [
      "Data type: int8\n"
     ]
    }
   ],
   "source": [
    "var = np.array([1,2,3,4,5],dtype = np.int8)\n",
    "print(\"Data type:\" , var.dtype)"
   ]
  },
  {
   "cell_type": "code",
   "execution_count": 14,
   "id": "7e7819f8",
   "metadata": {},
   "outputs": [
    {
     "name": "stdout",
     "output_type": "stream",
     "text": [
      "Data type: float32\n",
      "[1. 2. 3. 4. 5.]\n"
     ]
    }
   ],
   "source": [
    "var1 = np.array([1,2,3,4,5],dtype = \"f\")\n",
    "print(\"Data type:\" , var1.dtype)\n",
    "print(var1)"
   ]
  },
  {
   "cell_type": "code",
   "execution_count": 15,
   "id": "66903c8d",
   "metadata": {},
   "outputs": [
    {
     "name": "stdout",
     "output_type": "stream",
     "text": [
      "Datatype: int32\n",
      "datatype: float32\n",
      "[1 2 3 4 5]\n",
      "[1. 2. 3. 4. 5.]\n"
     ]
    }
   ],
   "source": [
    "var2 = np.array([1,2,3,4,5])\n",
    "\n",
    "new = np.float32(var2)\n",
    "print(\"Datatype:\" , var2.dtype)\n",
    "print(\"datatype:\", new.dtype)\n",
    "print(var2)\n",
    "print(new)"
   ]
  },
  {
   "cell_type": "code",
   "execution_count": 16,
   "id": "f225ca66",
   "metadata": {},
   "outputs": [
    {
     "name": "stdout",
     "output_type": "stream",
     "text": [
      "Datatype: int32\n",
      "datatype: float32\n",
      "datatype: int32\n",
      "[1 2 3 4 5]\n",
      "[1. 2. 3. 4. 5.]\n",
      "[1 2 3 4 5]\n"
     ]
    }
   ],
   "source": [
    "var2 = np.array([1,2,3,4,5])\n",
    "\n",
    "new = np.float32(var2)\n",
    "new1 = np.int_(new)\n",
    "print(\"Datatype:\" , var2.dtype)\n",
    "print(\"datatype:\", new.dtype)\n",
    "print(\"datatype:\",new1.dtype)\n",
    "print(var2)\n",
    "print(new)\n",
    "print(new1)"
   ]
  },
  {
   "cell_type": "code",
   "execution_count": 17,
   "id": "36c779bd",
   "metadata": {},
   "outputs": [
    {
     "name": "stdout",
     "output_type": "stream",
     "text": [
      "[1 2 3 4]\n",
      "[1. 2. 3. 4.]\n"
     ]
    }
   ],
   "source": [
    "x1 = np.array([1,2,3,4])\n",
    "new_1 = x1.astype(float)\n",
    "print(x1)\n",
    "print(new_1)"
   ]
  },
  {
   "cell_type": "markdown",
   "id": "dd948679",
   "metadata": {},
   "source": [
    "# arithmetic operatioin"
   ]
  },
  {
   "cell_type": "code",
   "execution_count": 18,
   "id": "9655b47c",
   "metadata": {},
   "outputs": [
    {
     "name": "stdout",
     "output_type": "stream",
     "text": [
      "[4 5 6 7]\n"
     ]
    }
   ],
   "source": [
    "import numpy as np\n",
    "\n",
    "x = np.array([1,2,3,4])\n",
    "y = (x + 3)\n",
    "print(y)"
   ]
  },
  {
   "cell_type": "code",
   "execution_count": 19,
   "id": "419e04dc",
   "metadata": {},
   "outputs": [
    {
     "name": "stdout",
     "output_type": "stream",
     "text": [
      "[ 5 10 15 20]\n"
     ]
    }
   ],
   "source": [
    "x = np.array([1,2,3,4])\n",
    "y = np.multiply(x,5)\n",
    "print(y)"
   ]
  },
  {
   "cell_type": "code",
   "execution_count": 20,
   "id": "49eb5dd7",
   "metadata": {},
   "outputs": [
    {
     "name": "stdout",
     "output_type": "stream",
     "text": [
      "[1 2 3 4]\n"
     ]
    }
   ],
   "source": [
    "x = np.array([1,2,3,4])\n",
    "y = np.mod(x,5)\n",
    "print(y)"
   ]
  },
  {
   "cell_type": "code",
   "execution_count": 21,
   "id": "0bc86f62",
   "metadata": {},
   "outputs": [
    {
     "name": "stdout",
     "output_type": "stream",
     "text": [
      "[0.33333333 0.66666667 1.         1.33333333]\n"
     ]
    }
   ],
   "source": [
    "x = np.array([1,2,3,4])\n",
    "y = (x / 3)\n",
    "print(y)"
   ]
  },
  {
   "cell_type": "code",
   "execution_count": 25,
   "id": "938535f6",
   "metadata": {},
   "outputs": [
    {
     "name": "stdout",
     "output_type": "stream",
     "text": [
      "[1 0 0 0]\n"
     ]
    }
   ],
   "source": [
    "x = np.array([1,2,3,4])\n",
    "y = np.reciprocal(x)\n",
    "print(y)"
   ]
  },
  {
   "cell_type": "markdown",
   "id": "47014293",
   "metadata": {},
   "source": [
    "# 2D array"
   ]
  },
  {
   "cell_type": "code",
   "execution_count": 27,
   "id": "0cb90462",
   "metadata": {},
   "outputs": [
    {
     "name": "stdout",
     "output_type": "stream",
     "text": [
      "[[ 2  4  6 10]\n",
      " [ 2 12 14 16]]\n"
     ]
    }
   ],
   "source": [
    "var = np.array([[1,2,3,5],[1,6,7,8]])\n",
    "var1 = np.array([[1,2,3,5],[1,6,7,8]])\n",
    "y = var+var1\n",
    "print(y)"
   ]
  },
  {
   "cell_type": "code",
   "execution_count": 28,
   "id": "b5c37aed",
   "metadata": {
    "scrolled": true
   },
   "outputs": [
    {
     "name": "stdout",
     "output_type": "stream",
     "text": [
      "[[ 1  4  9 25]\n",
      " [ 1 36 49 64]]\n"
     ]
    }
   ],
   "source": [
    "var = np.array([[1,2,3,5],[1,6,7,8]])\n",
    "var1 = np.array([[1,2,3,5],[1,6,7,8]])\n",
    "y = var*var1\n",
    "print(y)"
   ]
  },
  {
   "cell_type": "markdown",
   "id": "9060719a",
   "metadata": {},
   "source": [
    "# arithmetic functions"
   ]
  },
  {
   "cell_type": "code",
   "execution_count": 31,
   "id": "7d5e1b7b",
   "metadata": {},
   "outputs": [
    {
     "name": "stdout",
     "output_type": "stream",
     "text": [
      "min: 1 0\n",
      "max: 5 4\n",
      "sqrt: [1.         1.41421356 1.41421356 2.         2.23606798 1.73205081\n",
      " 2.23606798]\n"
     ]
    }
   ],
   "source": [
    "var = np.array([1,2,2,4,5,3,5])\n",
    "print(\"min:\",np.min(var),np.argmin(var))\n",
    "print(\"max:\",np.max(var),np.argmax(var))\n",
    "print(\"sqrt:\",np.sqrt(var))"
   ]
  },
  {
   "cell_type": "code",
   "execution_count": 32,
   "id": "a08bd53b",
   "metadata": {},
   "outputs": [
    {
     "name": "stdout",
     "output_type": "stream",
     "text": [
      "[1 2 2 4]\n"
     ]
    }
   ],
   "source": [
    "var1 = np.array([[1,2,3,4],[2,5,2,4]])\n",
    "print(np.min(var1,axis=0))"
   ]
  },
  {
   "cell_type": "code",
   "execution_count": 33,
   "id": "da516d05",
   "metadata": {},
   "outputs": [
    {
     "name": "stdout",
     "output_type": "stream",
     "text": [
      "[1 2]\n"
     ]
    }
   ],
   "source": [
    "var1 = np.array([[1,2,3,4],[2,5,2,4]])\n",
    "print(np.min(var1,axis=1))"
   ]
  },
  {
   "cell_type": "code",
   "execution_count": 34,
   "id": "4fe67c19",
   "metadata": {},
   "outputs": [
    {
     "name": "stdout",
     "output_type": "stream",
     "text": [
      "[0.84147098 0.90929743 0.14112001]\n"
     ]
    }
   ],
   "source": [
    "var2 = np.array([1,2,3])\n",
    "print(np.sin(var2))"
   ]
  },
  {
   "cell_type": "code",
   "execution_count": 35,
   "id": "90a46595",
   "metadata": {},
   "outputs": [
    {
     "name": "stdout",
     "output_type": "stream",
     "text": [
      "[ 0.54030231 -0.41614684 -0.9899925 ]\n"
     ]
    }
   ],
   "source": [
    "var2 = np.array([1,2,3])\n",
    "print(np.cos(var2))"
   ]
  },
  {
   "cell_type": "code",
   "execution_count": 36,
   "id": "5e87d02f",
   "metadata": {},
   "outputs": [
    {
     "name": "stdout",
     "output_type": "stream",
     "text": [
      "[1 3 6]\n"
     ]
    }
   ],
   "source": [
    "var2 = np.array([1,2,3])\n",
    "print(np.cumsum(var2))"
   ]
  },
  {
   "cell_type": "markdown",
   "id": "934a433f",
   "metadata": {},
   "source": [
    "# shape and reshape"
   ]
  },
  {
   "cell_type": "code",
   "execution_count": 38,
   "id": "7557f3b0",
   "metadata": {},
   "outputs": [
    {
     "name": "stdout",
     "output_type": "stream",
     "text": [
      "[[1 2 3 4]\n",
      " [2 3 5 6]]\n",
      "(2, 4)\n"
     ]
    }
   ],
   "source": [
    "var = np.array([[1,2,3,4],[2,3,5,6]])\n",
    "print(var)\n",
    "print(var.shape)"
   ]
  },
  {
   "cell_type": "code",
   "execution_count": 40,
   "id": "f78786d9",
   "metadata": {},
   "outputs": [
    {
     "name": "stdout",
     "output_type": "stream",
     "text": [
      "[[[[1 2 3 4]\n",
      "   [2 3 5 6]]]]\n",
      "4\n",
      "(1, 1, 2, 4)\n"
     ]
    }
   ],
   "source": [
    "var = np.array([[1,2,3,4],[2,3,5,6]],ndmin=4)\n",
    "print(var)\n",
    "print(var.ndim)\n",
    "print(var.shape)"
   ]
  },
  {
   "cell_type": "code",
   "execution_count": 45,
   "id": "bdf776c1",
   "metadata": {},
   "outputs": [
    {
     "name": "stdout",
     "output_type": "stream",
     "text": [
      "[1 2 3 4 5 6]\n",
      "1\n",
      "[[1 2]\n",
      " [3 4]\n",
      " [5 6]]\n"
     ]
    }
   ],
   "source": [
    "var1 = np.array([1,2,3,4,5,6])\n",
    "print(var1)\n",
    "print(var1.ndim)\n",
    "print(var1.reshape(3,2))\n"
   ]
  },
  {
   "cell_type": "code",
   "execution_count": 47,
   "id": "c495833c",
   "metadata": {},
   "outputs": [
    {
     "name": "stdout",
     "output_type": "stream",
     "text": [
      "[1 2 3 4 5 5 7 8 6]\n",
      "1\n",
      "[[1 2 3]\n",
      " [4 5 5]\n",
      " [7 8 6]]\n"
     ]
    }
   ],
   "source": [
    "var1 = np.array([1,2,3,4,5,5,7,8,6])\n",
    "print(var1)\n",
    "print(var1.ndim)\n",
    "print(var1.reshape(3,3))"
   ]
  },
  {
   "cell_type": "code",
   "execution_count": 50,
   "id": "b525b907",
   "metadata": {},
   "outputs": [
    {
     "name": "stdout",
     "output_type": "stream",
     "text": [
      "[1 2 3 4 5 5 7 4 2 1 8 6]\n",
      "1\n",
      "[[[1 2]\n",
      "  [3 4]\n",
      "  [5 5]]\n",
      "\n",
      " [[7 4]\n",
      "  [2 1]\n",
      "  [8 6]]]\n",
      "3\n"
     ]
    }
   ],
   "source": [
    "var1 = np.array([1,2,3,4,5,5,7,4,2,1,8,6])\n",
    "print(var1)\n",
    "print(var1.ndim)\n",
    "x = var1.reshape(2,3,2)\n",
    "print(x)\n",
    "print(x.ndim)"
   ]
  },
  {
   "cell_type": "code",
   "execution_count": 51,
   "id": "6b2c3a79",
   "metadata": {},
   "outputs": [
    {
     "name": "stdout",
     "output_type": "stream",
     "text": [
      "[1 2 3 4 5 5 7 4 2 1 8 6]\n",
      "1\n",
      "[[[1 2]\n",
      "  [3 4]\n",
      "  [5 5]]\n",
      "\n",
      " [[7 4]\n",
      "  [2 1]\n",
      "  [8 6]]]\n",
      "3\n",
      "[1 2 3 4 5 5 7 4 2 1 8 6]\n"
     ]
    }
   ],
   "source": [
    "var1 = np.array([1,2,3,4,5,5,7,4,2,1,8,6])\n",
    "print(var1)\n",
    "print(var1.ndim)\n",
    "x = var1.reshape(2,3,2)\n",
    "print(x)\n",
    "print(x.ndim)\n",
    "\n",
    "one = x.reshape(-1)\n",
    "print(one)"
   ]
  },
  {
   "cell_type": "markdown",
   "id": "48ef254b",
   "metadata": {},
   "source": [
    "# indexing"
   ]
  },
  {
   "cell_type": "code",
   "execution_count": 1,
   "id": "350c2d3e",
   "metadata": {},
   "outputs": [
    {
     "name": "stdout",
     "output_type": "stream",
     "text": [
      "3\n"
     ]
    }
   ],
   "source": [
    "import numpy as np\n",
    "var = np.array([1,2,3])\n",
    "print(var[2])"
   ]
  },
  {
   "cell_type": "code",
   "execution_count": 5,
   "id": "09459441",
   "metadata": {},
   "outputs": [
    {
     "name": "stdout",
     "output_type": "stream",
     "text": [
      "6\n"
     ]
    }
   ],
   "source": [
    "var = np.array([[1,2,3],[4,5,6]])\n",
    "print(var[1,2])"
   ]
  },
  {
   "cell_type": "code",
   "execution_count": 6,
   "id": "a65b5488",
   "metadata": {},
   "outputs": [
    {
     "name": "stdout",
     "output_type": "stream",
     "text": [
      "6\n"
     ]
    }
   ],
   "source": [
    "var = np.array([[[1,2,3],[4,5,6]]])\n",
    "print(var[0,1,2])"
   ]
  },
  {
   "cell_type": "markdown",
   "id": "a535b0f0",
   "metadata": {},
   "source": [
    "# iteration"
   ]
  },
  {
   "cell_type": "code",
   "execution_count": 2,
   "id": "ff5e967c",
   "metadata": {},
   "outputs": [
    {
     "name": "stdout",
     "output_type": "stream",
     "text": [
      "[1 4 5 6 7 8 9]\n",
      "1\n",
      "4\n",
      "5\n",
      "6\n",
      "7\n",
      "8\n",
      "9\n"
     ]
    }
   ],
   "source": [
    "import numpy as np\n",
    "x =np.array([1,4,5,6,7,8,9])\n",
    "print(x)\n",
    "for i in x:\n",
    "    print(i)"
   ]
  },
  {
   "cell_type": "code",
   "execution_count": 7,
   "id": "97b3469e",
   "metadata": {},
   "outputs": [
    {
     "name": "stdout",
     "output_type": "stream",
     "text": [
      "[[1 5 6 7 8]\n",
      " [2 4 6 8 9]]\n",
      "[1 5 6 7 8]\n",
      "[2 4 6 8 9]\n",
      "1\n",
      "5\n",
      "6\n",
      "7\n",
      "8\n",
      "2\n",
      "4\n",
      "6\n",
      "8\n",
      "9\n"
     ]
    }
   ],
   "source": [
    "var = np.array([[1,5,6,7,8],[2,4,6,8,9]])\n",
    "print(var)\n",
    "for j in var:\n",
    "    print(j)\n",
    "    \n",
    "for k in var:\n",
    "    for l in k:\n",
    "        print(l)"
   ]
  },
  {
   "cell_type": "code",
   "execution_count": 2,
   "id": "e4bbd4ff",
   "metadata": {},
   "outputs": [
    {
     "name": "stdout",
     "output_type": "stream",
     "text": [
      "[[[2 6 9 3 4]\n",
      "  [1 4 3 5 6]]]\n",
      "2\n",
      "6\n",
      "9\n",
      "3\n",
      "4\n",
      "1\n",
      "4\n",
      "3\n",
      "5\n",
      "6\n"
     ]
    }
   ],
   "source": [
    "import numpy as np\n",
    "var2 = np.array([[[2,6,9,3,4],[1,4,3,5,6]]])\n",
    "print(var2)\n",
    "\n",
    "for i in var2:\n",
    "    for j in i:\n",
    "        for k in j:\n",
    "            print(k)"
   ]
  },
  {
   "cell_type": "code",
   "execution_count": 4,
   "id": "2a9be9d8",
   "metadata": {},
   "outputs": [
    {
     "name": "stdout",
     "output_type": "stream",
     "text": [
      "[[[2 6 9 3 4]\n",
      "  [1 4 3 5 6]]]\n",
      "3\n",
      "\n",
      "2\n",
      "6\n",
      "9\n",
      "3\n",
      "4\n",
      "1\n",
      "4\n",
      "3\n",
      "5\n",
      "6\n"
     ]
    }
   ],
   "source": [
    "var2 = np.array([[[2,6,9,3,4],[1,4,3,5,6]]])\n",
    "print(var2)\n",
    "print(var2.ndim)\n",
    "print()\n",
    "for i in np.nditer(var2):\n",
    "    print(i)"
   ]
  },
  {
   "cell_type": "code",
   "execution_count": 5,
   "id": "b2618a31",
   "metadata": {},
   "outputs": [
    {
     "name": "stdout",
     "output_type": "stream",
     "text": [
      "[[[2 6 9 3 4]\n",
      "  [1 4 3 5 6]]]\n",
      "3\n",
      "\n",
      "(0, 0, 0) 2\n",
      "(0, 0, 1) 6\n",
      "(0, 0, 2) 9\n",
      "(0, 0, 3) 3\n",
      "(0, 0, 4) 4\n",
      "(0, 1, 0) 1\n",
      "(0, 1, 1) 4\n",
      "(0, 1, 2) 3\n",
      "(0, 1, 3) 5\n",
      "(0, 1, 4) 6\n"
     ]
    }
   ],
   "source": [
    "var2 = np.array([[[2,6,9,3,4],[1,4,3,5,6]]])\n",
    "print(var2)\n",
    "print(var2.ndim)\n",
    "print()\n",
    "for i,d in np.ndenumerate(var2):\n",
    "    print(i,d)"
   ]
  },
  {
   "cell_type": "markdown",
   "id": "eeb2df22",
   "metadata": {},
   "source": [
    "# copy vs view"
   ]
  },
  {
   "cell_type": "code",
   "execution_count": 8,
   "id": "90098b1e",
   "metadata": {},
   "outputs": [
    {
     "name": "stdout",
     "output_type": "stream",
     "text": [
      "var: [ 3 40  5  1]\n",
      "copy: [3 6 5 1]\n"
     ]
    }
   ],
   "source": [
    "var = np.array([3,6,5,1])\n",
    "co = var.copy()\n",
    "var[1] =40\n",
    "print(\"var:\",var)\n",
    "print(\"copy:\",co)"
   ]
  },
  {
   "cell_type": "code",
   "execution_count": 9,
   "id": "e0f681a1",
   "metadata": {},
   "outputs": [
    {
     "name": "stdout",
     "output_type": "stream",
     "text": [
      "var: [ 3  6 40  1]\n",
      "view: [ 3  6 40  1]\n"
     ]
    }
   ],
   "source": [
    "var = np.array([3,6,5,1])\n",
    "vi = var.view()\n",
    "var[2] = 40\n",
    "print(\"var:\",var)\n",
    "print(\"view:\",vi)"
   ]
  },
  {
   "cell_type": "markdown",
   "id": "dfb7b2de",
   "metadata": {},
   "source": [
    "# join array"
   ]
  },
  {
   "cell_type": "code",
   "execution_count": 11,
   "id": "ae25f21a",
   "metadata": {},
   "outputs": [
    {
     "name": "stdout",
     "output_type": "stream",
     "text": [
      "[1 2 3 4 2 5 6 8]\n"
     ]
    }
   ],
   "source": [
    "var = np.array([1,2,3,4])\n",
    "var1 = np.array([2,5,6,8])\n",
    "ar = np.concatenate((var,var1))\n",
    "print(ar)"
   ]
  },
  {
   "cell_type": "code",
   "execution_count": 14,
   "id": "11c0e4d8",
   "metadata": {},
   "outputs": [
    {
     "name": "stdout",
     "output_type": "stream",
     "text": [
      "[[1 2 2 5]\n",
      " [3 4 6 8]]\n"
     ]
    }
   ],
   "source": [
    "var = np.array([[1,2],[3,4]])\n",
    "var1 = np.array([[2,5],[6,8]])\n",
    "ar = np.concatenate((var,var1),axis =1)\n",
    "print(ar)"
   ]
  },
  {
   "cell_type": "code",
   "execution_count": 19,
   "id": "030b3fb3",
   "metadata": {},
   "outputs": [
    {
     "name": "stdout",
     "output_type": "stream",
     "text": [
      "[[1 2]\n",
      " [2 5]\n",
      " [3 6]\n",
      " [4 8]]\n",
      "\n",
      "[[1 2 3 4]\n",
      " [2 5 6 8]]\n",
      "\n",
      "[1 2 3 4 2 5 6 8]\n",
      "\n",
      "[[[1 2]\n",
      "  [2 5]\n",
      "  [3 6]\n",
      "  [4 8]]]\n"
     ]
    }
   ],
   "source": [
    "var = np.array([1,2,3,4])\n",
    "var1 = np.array([2,5,6,8])\n",
    "ar = np.stack((var,var1),axis =1)\n",
    "ar1 = np.vstack((var,var1))#column\n",
    "ar2= np.hstack((var,var1))#row\n",
    "ar3 = np.dstack((var,var1))#height\n",
    "print(ar)\n",
    "print()\n",
    "print(ar1)\n",
    "print()\n",
    "print(ar2)\n",
    "print()\n",
    "print(ar3)"
   ]
  },
  {
   "cell_type": "markdown",
   "id": "ddd12046",
   "metadata": {},
   "source": [
    "# split array"
   ]
  },
  {
   "cell_type": "code",
   "execution_count": 20,
   "id": "670f71fc",
   "metadata": {},
   "outputs": [
    {
     "name": "stdout",
     "output_type": "stream",
     "text": [
      "[array([1, 3]), array([4, 7]), array([4, 5])]\n"
     ]
    }
   ],
   "source": [
    "var = np.array([1,3,4,7,4,5])\n",
    "ar = np.split(var,3)\n",
    "print(ar)"
   ]
  },
  {
   "cell_type": "code",
   "execution_count": 27,
   "id": "853cf71e",
   "metadata": {},
   "outputs": [
    {
     "name": "stdout",
     "output_type": "stream",
     "text": [
      "[array([[1, 3]]), array([[4, 7]]), array([[4, 5]])]\n",
      "[array([[1],\n",
      "       [4],\n",
      "       [4]]), array([[3],\n",
      "       [7],\n",
      "       [5]]), array([], shape=(3, 0), dtype=int32)]\n"
     ]
    }
   ],
   "source": [
    "var = np.array([[1,3],[4,7],[4,5]])\n",
    "ar = np.array_split(var,3,axis = 0)\n",
    "ar1 = np.array_split(var,3,axis =1)\n",
    "print(ar)\n",
    "print(ar1)"
   ]
  },
  {
   "cell_type": "markdown",
   "id": "c03bbfd0",
   "metadata": {},
   "source": [
    "# seach ()"
   ]
  },
  {
   "cell_type": "code",
   "execution_count": 30,
   "id": "55848cec",
   "metadata": {},
   "outputs": [
    {
     "name": "stdout",
     "output_type": "stream",
     "text": [
      "(array([2, 4, 5, 6, 7], dtype=int64),)\n"
     ]
    }
   ],
   "source": [
    "var = np.array([1,3,4,5,6,4,8,4,9])\n",
    "x = np.where(var%2 == 0)\n",
    "print(x)"
   ]
  },
  {
   "cell_type": "code",
   "execution_count": 31,
   "id": "20340f82",
   "metadata": {},
   "outputs": [
    {
     "name": "stdout",
     "output_type": "stream",
     "text": [
      "1\n",
      "[1 2]\n"
     ]
    }
   ],
   "source": [
    "var = np.array([1,3,5,6,7,8,9])\n",
    "x = np.searchsorted(var,2)\n",
    "x1 = np.searchsorted(var,[2,4],side = \"right\")\n",
    "print(x)\n",
    "print(x1)"
   ]
  },
  {
   "cell_type": "code",
   "execution_count": 32,
   "id": "9db6fc0c",
   "metadata": {},
   "outputs": [
    {
     "name": "stdout",
     "output_type": "stream",
     "text": [
      "[ 1  6  8  9 17 32 55]\n"
     ]
    }
   ],
   "source": [
    "var = np.array([1,32,55,6,17,8,9])\n",
    "print(np.sort(var))"
   ]
  },
  {
   "cell_type": "markdown",
   "id": "4f1dd70f",
   "metadata": {},
   "source": [
    "# filter array"
   ]
  },
  {
   "cell_type": "code",
   "execution_count": 36,
   "id": "254d795c",
   "metadata": {},
   "outputs": [
    {
     "name": "stdout",
     "output_type": "stream",
     "text": [
      "['e' 'w']\n"
     ]
    }
   ],
   "source": [
    "x = np.array(['e','r','s','w'])\n",
    "f = [True,False,False,True]\n",
    "a = x[f]\n",
    "print(a)"
   ]
  },
  {
   "cell_type": "code",
   "execution_count": 35,
   "id": "a1c35519",
   "metadata": {},
   "outputs": [
    {
     "name": "stdout",
     "output_type": "stream",
     "text": [
      "[ 3  5 42  1  2]\n"
     ]
    }
   ],
   "source": [
    "import numpy as np\n",
    "var = np.array([1,3,42,2,5])\n",
    "np.random.shuffle(var)\n",
    "print(var)"
   ]
  },
  {
   "cell_type": "code",
   "execution_count": 37,
   "id": "76d8bbe7",
   "metadata": {},
   "outputs": [
    {
     "name": "stdout",
     "output_type": "stream",
     "text": [
      "(array([ 1,  2,  3,  5,  7,  8,  9, 42]), array([ 0,  3,  1,  2,  5,  6,  7, 11], dtype=int64), array([2, 2, 3, 2, 1, 1, 2, 1], dtype=int64))\n"
     ]
    }
   ],
   "source": [
    "var = np.array([1,3,5,2,3,7,8,9,9,1,3,42,2,5])\n",
    "\n",
    "x = np.unique(var,return_index = True,return_counts= True)\n",
    "print(x)"
   ]
  },
  {
   "cell_type": "code",
   "execution_count": 40,
   "id": "36e5b237",
   "metadata": {},
   "outputs": [
    {
     "name": "stdout",
     "output_type": "stream",
     "text": [
      "[[1 2]\n",
      " [3 4]\n",
      " [5 6]]\n"
     ]
    }
   ],
   "source": [
    "var = np.array([1,2,3,4,5,6])\n",
    "y = np.resize(var,(3,2))\n",
    "print(y)"
   ]
  },
  {
   "cell_type": "code",
   "execution_count": 43,
   "id": "7ff58205",
   "metadata": {},
   "outputs": [
    {
     "name": "stdout",
     "output_type": "stream",
     "text": [
      "[[1 2]\n",
      " [3 4]\n",
      " [5 6]]\n",
      "\n",
      "Flatten: [1 3 5 2 4 6]\n",
      "ravel [1 2 3 4 5 6]\n"
     ]
    }
   ],
   "source": [
    "var = np.array([1,2,3,4,5,6])\n",
    "y = np.resize(var,(3,2))\n",
    "print(y)\n",
    "print()\n",
    "print(\"Flatten:\" , y.flatten(order = 'F'))# K,F,A,C\n",
    "print(\"ravel\", y.ravel(order = 'A'))"
   ]
  },
  {
   "cell_type": "markdown",
   "id": "9d101dc0",
   "metadata": {},
   "source": [
    "# insert"
   ]
  },
  {
   "cell_type": "code",
   "execution_count": 44,
   "id": "d9e2a2c1",
   "metadata": {},
   "outputs": [
    {
     "name": "stdout",
     "output_type": "stream",
     "text": [
      "[ 1  3  6  9 44  7]\n"
     ]
    }
   ],
   "source": [
    "var = np.array([1,3,6,44,7])\n",
    "x = np.insert(var,3,9)\n",
    "print(x)"
   ]
  },
  {
   "cell_type": "code",
   "execution_count": 49,
   "id": "2cf8d82a",
   "metadata": {},
   "outputs": [
    {
     "name": "stdout",
     "output_type": "stream",
     "text": [
      "[[ 1  3 33  4  5]\n",
      " [ 5  3  9  4  2]]\n"
     ]
    }
   ],
   "source": [
    "var = np.array([[1,3,4,5],[5,3,4,2]])\n",
    "x = np.insert(var, 2 ,[33,9],axis = 1)\n",
    "print(x)"
   ]
  },
  {
   "cell_type": "code",
   "execution_count": 52,
   "id": "55ed0a5b",
   "metadata": {},
   "outputs": [
    {
     "name": "stdout",
     "output_type": "stream",
     "text": [
      "[ 1  6 44  7]\n"
     ]
    }
   ],
   "source": [
    "var = np.array([1,3,6,44,7])\n",
    "d = np.delete(var,1)\n",
    "print(d)"
   ]
  },
  {
   "cell_type": "code",
   "execution_count": null,
   "id": "0498d01f",
   "metadata": {},
   "outputs": [],
   "source": []
  },
  {
   "cell_type": "raw",
   "id": "83cce93c",
   "metadata": {},
   "source": []
  },
  {
   "cell_type": "code",
   "execution_count": null,
   "id": "325de1bb",
   "metadata": {},
   "outputs": [],
   "source": []
  }
 ],
 "metadata": {
  "kernelspec": {
   "display_name": "Python 3 (ipykernel)",
   "language": "python",
   "name": "python3"
  },
  "language_info": {
   "codemirror_mode": {
    "name": "ipython",
    "version": 3
   },
   "file_extension": ".py",
   "mimetype": "text/x-python",
   "name": "python",
   "nbconvert_exporter": "python",
   "pygments_lexer": "ipython3",
   "version": "3.11.4"
  }
 },
 "nbformat": 4,
 "nbformat_minor": 5
}
